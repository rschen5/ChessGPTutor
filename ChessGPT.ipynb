{
 "cells": [
  {
   "cell_type": "markdown",
   "metadata": {},
   "source": [
    "# ChessGPT"
   ]
  },
  {
   "cell_type": "code",
   "execution_count": 1,
   "metadata": {
    "id": "JO1BBpooYdkl"
   },
   "outputs": [],
   "source": [
    "import chess\n",
    "from chess import Move\n",
    "import random\n",
    "import numpy as np\n",
    "import openai\n",
    "import json"
   ]
  },
  {
   "cell_type": "markdown",
   "metadata": {
    "id": "ZISHdkA7SasA"
   },
   "source": [
    "Explanation AI"
   ]
  },
  {
   "cell_type": "code",
   "execution_count": 2,
   "metadata": {
    "id": "JNyNzanS6Ii8"
   },
   "outputs": [],
   "source": [
    "# config.json\n",
    "# {\n",
    "#     \"OPENAI_API_KEY\": your api key\n",
    "# }\n",
    "\n",
    "f = open(\"./config.json\")\n",
    "data = json.load(f)\n",
    "f.close()"
   ]
  },
  {
   "cell_type": "code",
   "execution_count": 3,
   "metadata": {
    "id": "f-DoyCG36XeG"
   },
   "outputs": [],
   "source": [
    "openai.api_key = data['OPENAI_API_KEY']\n",
    "model_engine = \"gpt-3.5-turbo\" "
   ]
  },
  {
   "cell_type": "code",
   "execution_count": 4,
   "metadata": {
    "colab": {
     "base_uri": "https://localhost:8080/",
     "height": 35
    },
    "id": "kIcy2FRC_wNC",
    "outputId": "3a25d30a-e6e0-4ace-8915-60d7685c5d72"
   },
   "outputs": [],
   "source": [
    "intro_message = \"You are a chess tutor for a beginner player playing as white.\""
   ]
  },
  {
   "cell_type": "code",
   "execution_count": 5,
   "metadata": {
    "colab": {
     "base_uri": "https://localhost:8080/",
     "height": 70
    },
    "id": "pLtGTvkiCHWJ",
    "outputId": "6ff65d4c-d09f-4b0d-c5ad-d558aed17cf5"
   },
   "outputs": [],
   "source": [
    "goal_message = \"Your goal is to offer give advice to a beginner player during a game. I will give you a move sequence, and you will comment on the state of the game and the latest move in the sequence, and offer possible next moves for white, stating them in UCI representation (e.g. a1a3). Please answer as if you are speaking directly to the player.\""
   ]
  },
  {
   "cell_type": "code",
   "execution_count": 6,
   "metadata": {
    "colab": {
     "base_uri": "https://localhost:8080/"
    },
    "id": "r1f_4nHX6gUl",
    "outputId": "8925cd88-576d-4f07-8c58-515be77579a9"
   },
   "outputs": [
    {
     "name": "stdout",
     "output_type": "stream",
     "text": [
      "assistant: Hello Beginner Chess Player! How can I assist you today with our chess lessons? Let's start with the basics. Have you learned about the movements of each piece on the chessboard?\n"
     ]
    }
   ],
   "source": [
    "response = openai.ChatCompletion.create(\n",
    "    model='gpt-3.5-turbo',\n",
    "    messages=[\n",
    "        {\"role\": \"system\", \"content\": intro_message},\n",
    "        {\"role\": \"user\", \"content\": \"Hello, ChatGPT!\"},\n",
    "    ])\n",
    "\n",
    "message = response.choices[0]['message']\n",
    "print(\"{}: {}\".format(message['role'], message['content']))"
   ]
  },
  {
   "cell_type": "code",
   "execution_count": 7,
   "metadata": {
    "colab": {
     "base_uri": "https://localhost:8080/"
    },
    "id": "YTX02CVL7b6Z",
    "outputId": "6f079567-8551-4910-9123-0debc89c7a78"
   },
   "outputs": [
    {
     "name": "stdout",
     "output_type": "stream",
     "text": [
      "assistant: Hello! Let's take a look at the current position. You have a strong pawn center, but you have given up your knight and bishop for black's knight and dark-squared bishop. Black also has a pin on your f7 pawn with their bishop.\n",
      "\n",
      "In response to black's last move, 10...c8e6, one possible move for white is 11. f4xe6. This captures the pawn on e6 with your bishop and breaks the pin on your f7 pawn. Black will likely recapture with their d7 pawn, but then you can bring your queen into the game with 12. Qd1e2, attacking the d7 pawn and preparing to castle on the kingside.\n",
      "\n",
      "Another option is to continue developing your pieces with 11. Ng1f3, putting pressure on the e4 pawn and preparing to castle on the kingside. Black may then continue with 11...Bc8g4, attacking your knight, but you could respond with 12. h2h3, forcing the bishop to retreat and maintaining your knight's pressure on e4.\n",
      "\n",
      "Overall, your position is solid, and you have a couple of strong options to choose from. Just remember to look for ways to continue developing your pieces and put pressure on black's position. Good luck!\n"
     ]
    }
   ],
   "source": [
    "response = openai.ChatCompletion.create(\n",
    "    model='gpt-3.5-turbo',\n",
    "    messages=[\n",
    "        {\"role\": \"system\", \"content\": goal_message},\n",
    "        {\"role\": \"user\", \"content\": \"'1. g1f3 g8f6 2. b1c3 b8c6 3. e2e4 e7e5 4. f3e5 f6e4 5. c3e4 f8b4 6. f1c4 c6e5 7. e1g1 e8g8 8. c4f7 f8f7 9. d2d4 d7d5 10. c1f4 c8e6'\"},\n",
    "    ])\n",
    "\n",
    "message = response.choices[0]['message']\n",
    "print(\"{}: {}\".format(message['role'], message['content']))"
   ]
  },
  {
   "cell_type": "markdown",
   "metadata": {
    "id": "hb7o9dvQSV1I"
   },
   "source": [
    "Chess AI"
   ]
  },
  {
   "cell_type": "code",
   "execution_count": 8,
   "metadata": {
    "id": "mkfLeisxbbjC"
   },
   "outputs": [],
   "source": [
    "# EVALUATION\n",
    "# https://www.chessprogramming.org/Simplified_Evaluation_Function\n",
    "\n",
    "points = {\n",
    "    'P': 100,   # Pawn\n",
    "    'N': 320,   # Knight\n",
    "    'B': 330,   # Bishop\n",
    "    'R': 500,   # Rook\n",
    "    'Q': 900,   # Queen\n",
    "    'K': 20000  # King\n",
    "}\n",
    "\n",
    "# Piece square tables\n",
    "# top left: a1, top right: a8, bottom left: h1, bottom right: h8\n",
    "# modified to match square coordinates in chess library\n",
    "pst = {\n",
    "    # Pawn\n",
    "    'P': np.array([[  0,   5,   5,   0,   5,  10,  50,   0],\n",
    "                   [  0,  10,  -5,   0,   5,  10,  50,   0],\n",
    "                   [  0,  10, -10,   0,  10,  20,  50,   0],\n",
    "                   [  0, -20,   0,  20,  25,  30,  50,   0],\n",
    "                   [  0, -20,   0,  20,  25,  30,  50,   0],\n",
    "                   [  0,  10, -10,   0,  10,  20,  50,   0],\n",
    "                   [  0,  10,  -5,   0,   5,  10,  50,   0],\n",
    "                   [  0,   5,   5,   0,   5,  10,  50,   0]]),\n",
    "    # Knight\n",
    "    'N': np.array([[-50, -40, -30, -30, -30, -30, -40, -50],\n",
    "                   [-40, -20,   5,   0,   5,   0, -20, -40],\n",
    "                   [-30,   0,  10,  15,  15,  10,   0, -30],\n",
    "                   [-30,   5,  15,  20,  20,  15,   0, -30],\n",
    "                   [-30,   5,  15,  20,  20,  15,   0, -30],\n",
    "                   [-30,   0,  10,  15,  15,  10,   0, -30],\n",
    "                   [-40, -20,   5,   0,   5,   0, -20, -40],\n",
    "                   [-50, -40, -30, -30, -30, -30, -40, -50]]),\n",
    "    # Bishop\n",
    "    'B': np.array([[-20, -10, -10, -10, -10, -10, -10, -20],\n",
    "                   [-10,   5,  10,   0,   5,   0,   0, -10],\n",
    "                   [-10,   0,  10,  10,   5,   5,   0, -10],\n",
    "                   [-10,   0,  10,  10,  10,  10,   0, -10],\n",
    "                   [-10,   0,  10,  10,  10,  10,   0, -10],\n",
    "                   [-10,   0,  10,  10,   5,   5,   0, -10],\n",
    "                   [-10,   5,  10,   0,   5,   0,   0, -10],\n",
    "                   [-20, -10, -10, -10, -10, -10, -10, -20]]),\n",
    "    # Rook\n",
    "    'R': np.array([[ 0, -5, -5, -5, -5, -5,  5,  0],\n",
    "                   [ 0,  0,  0,  0,  0,  0, 10,  0],\n",
    "                   [ 0,  0,  0,  0,  0,  0, 10,  0],\n",
    "                   [ 5,  0,  0,  0,  0,  0, 10,  0],\n",
    "                   [ 5,  0,  0,  0,  0,  0, 10,  0],\n",
    "                   [ 0,  0,  0,  0,  0,  0, 10,  0],\n",
    "                   [ 0,  0,  0,  0,  0,  0, 10,  0],\n",
    "                   [ 0, -5, -5, -5, -5, -5,  5,  0]]),\n",
    "    # Queen\n",
    "    'Q': np.array([[-20, -10, -10,   0,  -5, -10, -10, -20],\n",
    "                   [-10,   0,   5,   0,   0,   0,   0, -10],\n",
    "                   [-10,   5,   5,   5,   5,   5,   0, -10],\n",
    "                   [ -5,   0,   5,   5,   5,   5,   0,  -5],\n",
    "                   [ -5,   0,   5,   5,   5,   5,   0,  -5],\n",
    "                   [-10,   0,   5,   5,   5,   5,   0, -10],\n",
    "                   [-10,   0,   0,   0,   0,   0,   0, -10],\n",
    "                   [-20, -10, -10,  -5,  -5, -10, -10, -20]]),\n",
    "    # King - middle of game\n",
    "    'K_middle': np.array([[ 20,  20, -10, -20, -30, -30, -30, -30],\n",
    "                          [ 30,  20, -20, -30, -40, -40, -40, -40],\n",
    "                          [ 10,   0, -20, -30, -40, -40, -40, -40],\n",
    "                          [  0,   0, -20, -40, -50, -50, -50, -50],\n",
    "                          [  0,   0, -20, -40, -50, -50, -50, -50],\n",
    "                          [ 10,   0, -20, -30, -40, -40, -40, -40],\n",
    "                          [ 30,  20, -20, -30, -40, -40, -40, -40],\n",
    "                          [ 20,  20, -10, -20, -30, -30, -30, -30]]),\n",
    "    # King - endgame\n",
    "    'K_end': np.array([[-50, -30, -30, -30, -30, -30, -30, -50],\n",
    "                       [-30, -30, -10, -10, -10, -10, -20, -40],\n",
    "                       [-30,   0,  20,  30,  30,  20, -10, -30],\n",
    "                       [-30,   0,  30,  40,  40,  30,   0, -20],\n",
    "                       [-30,   0,  30,  40,  40,  30,   0, -20],\n",
    "                       [-30,   0,  20,  30,  30,  20, -10, -30],\n",
    "                       [-30, -30, -10, -10, -10, -10, -20, -40],\n",
    "                       [-50, -30, -30, -30, -30, -30, -30, -50]])\n",
    " }\n",
    "\n",
    "# \"Additionally we should define where the ending begins. For me it might be either if:\n",
    "# Both sides have no queens or\n",
    "# Every side which has a queen has additionally no other pieces or one minorpiece maximum.\"\n",
    "# Use to pick which piece square table to use for king\n",
    "def is_endgame(board):\n",
    "    fen_str = board.board_fen()\n",
    "    if fen_str.lower().count('q') == 0:\n",
    "        # both sides have no queen\n",
    "        return True\n",
    "    else:\n",
    "        # True if side doesn't have a queen\n",
    "        white_check = not ('Q' in fen_str)\n",
    "        black_check = not ('q' in fen_str)\n",
    "        # check if every side that has a queen has additionally no other pieces or one minor piece maximum\n",
    "        if not white_check and sum(int(c.isupper()) for c in fen_str) <= 3: # includes queen and king\n",
    "            white_check = True\n",
    "        if not black_check and sum(int(c.islower()) for c in fen_str) <= 3:\n",
    "            black_check = True\n",
    "        return white_check and black_check\n",
    "\n",
    "def get_board_points(board):\n",
    "    # Points for pieces on board + bonus points for piece positions (piece square tables)\n",
    "    points_diff = 0\n",
    "    for square_num, piece in board.piece_map().items():\n",
    "        symbol = piece.symbol()\n",
    "        if symbol.islower():\n",
    "            square_num = chess.square_mirror(square_num)\n",
    "            pts_sign = -1\n",
    "        else:\n",
    "            pts_sign = 1\n",
    "        \n",
    "        square_coords = (chess.square_file(square_num), chess.square_rank(square_num))\n",
    "\n",
    "        if symbol.upper() == \"K\":\n",
    "            if is_endgame(board):\n",
    "                symbol += \"_end\"\n",
    "            else:\n",
    "                symbol += \"_middle\"\n",
    "        \n",
    "        points_diff += pts_sign * pst[symbol.capitalize()][square_coords]\n",
    "\n",
    "    return points_diff"
   ]
  },
  {
   "cell_type": "code",
   "execution_count": 9,
   "metadata": {
    "id": "8m7OEXehCSRB"
   },
   "outputs": [],
   "source": [
    "# SEARCH\n",
    "# currently only returns one move with min/max score, can modify to return dictionaries with multiple moves if we want to randomize game a bit\n",
    "\n",
    "def minimax(board, depth, maximizing_player, moves_list = ()):\n",
    "    if depth == 0 or len(list(board.legal_moves)) == 0:\n",
    "        return moves_list, get_board_points(board)\n",
    "    \n",
    "    if maximizing_player:\n",
    "        value = float('-inf')\n",
    "        final_moves_list = ()\n",
    "\n",
    "        for move in list(board.legal_moves):\n",
    "            board_copy = board.copy()\n",
    "            board_copy.push(move)\n",
    "            new_moves_list = moves_list + (move.uci(),)\n",
    "\n",
    "            best_move, move_points = minimax(board_copy, depth - 1, not maximizing_player, new_moves_list)\n",
    "            if move_points > value:\n",
    "                final_moves_list = best_move\n",
    "                value = move_points\n",
    "            \n",
    "        return final_moves_list, value\n",
    "    \n",
    "    else:\n",
    "        value = float('inf')\n",
    "        final_moves_list = ()\n",
    "\n",
    "        for move in list(board.legal_moves):\n",
    "            board_copy = board.copy()\n",
    "            board_copy.push(move)\n",
    "            new_moves_list = moves_list + (move.uci(),)\n",
    "\n",
    "            best_move, move_points = minimax(board_copy, depth - 1, not maximizing_player, new_moves_list)\n",
    "            if move_points < value:\n",
    "                final_moves_list = best_move\n",
    "                value = move_points\n",
    "            \n",
    "        return final_moves_list, value\n",
    "\n",
    "\n",
    "def alpha_beta_fail_hard(board, depth, maximizing_player, alpha = float('-inf'), beta = float('inf'), moves_list = ()):\n",
    "    if depth == 0 or len(list(board.legal_moves)) == 0:\n",
    "        return moves_list, get_board_points(board)\n",
    "\n",
    "    if maximizing_player:\n",
    "        value = float('-inf')\n",
    "        final_moves_list = ()\n",
    "\n",
    "        for move in list(board.legal_moves):\n",
    "            board_copy = board.copy()\n",
    "            board_copy.push(move)\n",
    "            new_moves_list = moves_list + (move.uci(),)\n",
    "            \n",
    "            best_move, move_points = alpha_beta_fail_hard(board_copy, depth - 1, not maximizing_player, alpha, beta, new_moves_list)\n",
    "            if move_points > value:\n",
    "                final_moves_list = best_move\n",
    "                value = move_points\n",
    "            \n",
    "            if value > beta:\n",
    "                break\n",
    "            alpha = max(alpha, value)\n",
    "        \n",
    "        return final_moves_list, value\n",
    "    \n",
    "    else:\n",
    "        value = float('inf')\n",
    "        final_moves_list = ()\n",
    "\n",
    "        for move in list(board.legal_moves):\n",
    "            board_copy = board.copy()\n",
    "            board_copy.push(move)\n",
    "            new_moves_list = moves_list + (move.uci(),)\n",
    "            \n",
    "            best_move, move_points = alpha_beta_fail_hard(board_copy, depth - 1, not maximizing_player, alpha, beta, new_moves_list)\n",
    "            if move_points < value:\n",
    "                final_moves_list = best_move\n",
    "                value = move_points\n",
    "            \n",
    "            if value < alpha:\n",
    "                break\n",
    "            beta = min(beta, value)\n",
    "        \n",
    "        return final_moves_list, value\n",
    "\n",
    "def alpha_beta_fail_soft(board, depth, maximizing_player, alpha = float('-inf'), beta = float('inf'), moves_list = ()):\n",
    "    if depth == 0 or len(list(board.legal_moves)) == 0:\n",
    "        return moves_list, get_board_points(board)\n",
    "\n",
    "    if maximizing_player:\n",
    "        value = float('-inf')\n",
    "        final_moves_list = ()\n",
    "\n",
    "        for move in list(board.legal_moves):\n",
    "            board_copy = board.copy()\n",
    "            board_copy.push(move)\n",
    "            new_moves_list = moves_list + (move.uci(),)\n",
    "            \n",
    "            best_move, move_points = alpha_beta_fail_soft(board_copy, depth - 1, not maximizing_player, alpha, beta, new_moves_list)\n",
    "            if move_points > value:\n",
    "                final_moves_list = best_move\n",
    "                value = move_points\n",
    "            \n",
    "            alpha = max(alpha, value)\n",
    "            if value >= beta:\n",
    "                break\n",
    "        \n",
    "        return final_moves_list, value\n",
    "    \n",
    "    else:\n",
    "        value = float('inf')\n",
    "        final_moves_list = ()\n",
    "\n",
    "        for move in list(board.legal_moves):\n",
    "            board_copy = board.copy()\n",
    "            board_copy.push(move)\n",
    "            new_moves_list = moves_list + (move.uci(),)\n",
    "            \n",
    "            best_move, move_points = alpha_beta_fail_soft(board_copy, depth - 1, not maximizing_player, alpha, beta, new_moves_list)\n",
    "            if move_points < value:\n",
    "                final_moves_list = best_move\n",
    "                value = move_points\n",
    "            \n",
    "            beta = min(beta, value)\n",
    "            if value <= alpha:\n",
    "                break\n",
    "        \n",
    "        return final_moves_list, value"
   ]
  },
  {
   "cell_type": "code",
   "execution_count": 10,
   "metadata": {
    "id": "lnxkJ4hqOQVk"
   },
   "outputs": [],
   "source": [
    "# GAMEPLAY\n",
    "\n",
    "class RandomPlayer():\n",
    "    def __init__(self, color = True):\n",
    "        self.color = color\n",
    "\n",
    "    def get_move(self, board):\n",
    "        return random.choice(list(board.legal_moves))\n",
    "\n",
    "class AIPlayer():\n",
    "    def __init__(self, color = True, algo = \"minimax\", depth = 1):\n",
    "        self.color = color\n",
    "        self.algo = algo\n",
    "        self.depth = depth\n",
    "\n",
    "    def get_move(self, board):\n",
    "        if self.algo == \"AB_hard\":\n",
    "            moves, _ = alpha_beta_fail_hard(board, self.depth, board.turn)\n",
    "        elif self.algo == \"AB_soft\":\n",
    "            moves, _ = alpha_beta_fail_soft(board, self.depth, board.turn)\n",
    "        else:\n",
    "            moves, _ = minimax(board, self.depth, board.turn)\n",
    "        return Move.from_uci(moves[0])\n",
    "\n",
    "# could also add human player for testing later\n",
    "class HumanPlayer():\n",
    "    def __init__(self, color = True):\n",
    "        self.color = color\n",
    "\n",
    "    def get_move(self, board):\n",
    "        return None\n",
    "\n",
    "def who(player):\n",
    "    if player == chess.WHITE:\n",
    "        return \"WHITE\"\n",
    "    elif player == chess.BLACK:\n",
    "        return \"BLACK\"\n",
    "    return None\n",
    "\n",
    "def play_game_max_moves(player1, player2, board = None, max_moves = 0, per_side = True):\n",
    "    if board == None:\n",
    "        board = chess.Board()\n",
    "    game_moves = []\n",
    "    if per_side:\n",
    "        max_moves *= 2\n",
    "    while max_moves > 0 and not board.is_game_over(claim_draw=True):\n",
    "        if board.turn == player1.color:\n",
    "            move = player1.get_move(board)\n",
    "        else:\n",
    "            move = player2.get_move(board)\n",
    "        game_moves.append(move.uci())\n",
    "        board.push(move)\n",
    "        max_moves -= 1\n",
    "    if not board.is_game_over(claim_draw=True):\n",
    "        print(\"Game not over\")\n",
    "    else:\n",
    "        outcome = board.outcome()\n",
    "        if outcome == None:\n",
    "            t = \"DRAW\"\n",
    "            w = None\n",
    "        else:\n",
    "            t = str(outcome.termination).split('.')[1]\n",
    "            w = who(outcome.winner)\n",
    "        print(f\"Outcome: {t}\\nWinner: {w}\\nNumber of moves: {len(game_moves)}\")\n",
    "    print(\"================================================================\")\n",
    "    print(\"Moves:\\tWHITE\\tBLACK\\n        -------------\")\n",
    "    for i in range(int(np.ceil(len(game_moves) / 2))):\n",
    "        next_moves = game_moves[(i*2):(i*2 + 2)]\n",
    "        if len(next_moves) == 1:\n",
    "            print(f\"{i+1:>6}  {next_moves[0]}\")\n",
    "        else:\n",
    "            print(f\"{i+1:>6}  {next_moves[0]}\\t{next_moves[1]}\")\n",
    "    return board\n",
    "\n",
    "def play_game(player1, player2, board = None):\n",
    "    if board == None:\n",
    "        board = chess.Board()\n",
    "    game_moves = []\n",
    "    while not board.is_game_over(claim_draw=True):\n",
    "        if board.turn == player1.color:\n",
    "            move = player1.get_move(board)\n",
    "        else:\n",
    "            move = player2.get_move(board)\n",
    "        game_moves.append(move.uci())\n",
    "        board.push(move)\n",
    "    outcome = board.outcome()\n",
    "    if outcome == None:\n",
    "        t = \"DRAW\"\n",
    "        w = None\n",
    "    else:\n",
    "        t = str(outcome.termination).split('.')[1]\n",
    "        w = who(outcome.winner)\n",
    "    print(f\"Outcome: {t}\\nWinner: {w}\\nNumber of moves: {len(game_moves)}\")\n",
    "    print(\"================================================================\")\n",
    "    print(\"Moves:\\tWHITE\\tBLACK\\n        -------------\")\n",
    "    for i in range(int(np.ceil(len(game_moves) / 2))):\n",
    "        next_moves = game_moves[(i*2):(i*2 + 2)]\n",
    "        if len(next_moves) == 1:\n",
    "            print(f\"{i+1:>6}  {next_moves[0]}\")\n",
    "        else:\n",
    "            print(f\"{i+1:>6}  {next_moves[0]}\\t{next_moves[1]}\")\n",
    "\n",
    "def play_random_game():\n",
    "    r1 = RandomPlayer(color = True) # white\n",
    "    r2 = RandomPlayer(color = False) # black\n",
    "    play_game(r1, r2)"
   ]
  },
  {
   "cell_type": "code",
   "execution_count": 11,
   "metadata": {
    "colab": {
     "base_uri": "https://localhost:8080/"
    },
    "id": "cCgkRihtOCYX",
    "outputId": "23c37a82-c5c4-45a7-dc4e-66e05976ab56"
   },
   "outputs": [
    {
     "name": "stdout",
     "output_type": "stream",
     "text": [
      "r n b q k b n r\n",
      "p p p p p p p p\n",
      ". . . . . . . .\n",
      ". . . . . . . .\n",
      ". . . . . . . .\n",
      ". . . . . . . .\n",
      "P P P P P P P P\n",
      "R N B Q K B N R\n"
     ]
    }
   ],
   "source": [
    "board = chess.Board()\n",
    "print(board)"
   ]
  },
  {
   "cell_type": "code",
   "execution_count": 12,
   "metadata": {
    "colab": {
     "base_uri": "https://localhost:8080/",
     "height": 411
    },
    "id": "5k16M1vK_YsL",
    "outputId": "d6f2bd1a-7111-4d16-8b31-fdf4d52875b1"
   },
   "outputs": [
    {
     "data": {
      "image/svg+xml": [
       "<svg xmlns=\"http://www.w3.org/2000/svg\" xmlns:xlink=\"http://www.w3.org/1999/xlink\" version=\"1.2\" baseProfile=\"tiny\" viewBox=\"0 0 390 390\" width=\"390\" height=\"390\"><desc><pre>r n b q k b n r\n",
       "p p p p p p p p\n",
       ". . . . . . . .\n",
       ". . . . . . . .\n",
       ". . . . . . . .\n",
       ". . . . . . . .\n",
       "P P P P P P P P\n",
       "R N B Q K B N R</pre></desc><defs><g id=\"white-pawn\" class=\"white pawn\"><path d=\"M22.5 9c-2.21 0-4 1.79-4 4 0 .89.29 1.71.78 2.38C17.33 16.5 16 18.59 16 21c0 2.03.94 3.84 2.41 5.03-3 1.06-7.41 5.55-7.41 13.47h23c0-7.92-4.41-12.41-7.41-13.47 1.47-1.19 2.41-3 2.41-5.03 0-2.41-1.33-4.5-3.28-5.62.49-.67.78-1.49.78-2.38 0-2.21-1.79-4-4-4z\" fill=\"#fff\" stroke=\"#000\" stroke-width=\"1.5\" stroke-linecap=\"round\" /></g><g id=\"white-knight\" class=\"white knight\" fill=\"none\" fill-rule=\"evenodd\" stroke=\"#000\" stroke-width=\"1.5\" stroke-linecap=\"round\" stroke-linejoin=\"round\"><path d=\"M 22,10 C 32.5,11 38.5,18 38,39 L 15,39 C 15,30 25,32.5 23,18\" style=\"fill:#ffffff; stroke:#000000;\" /><path d=\"M 24,18 C 24.38,20.91 18.45,25.37 16,27 C 13,29 13.18,31.34 11,31 C 9.958,30.06 12.41,27.96 11,28 C 10,28 11.19,29.23 10,30 C 9,30 5.997,31 6,26 C 6,24 12,14 12,14 C 12,14 13.89,12.1 14,10.5 C 13.27,9.506 13.5,8.5 13.5,7.5 C 14.5,6.5 16.5,10 16.5,10 L 18.5,10 C 18.5,10 19.28,8.008 21,7 C 22,7 22,10 22,10\" style=\"fill:#ffffff; stroke:#000000;\" /><path d=\"M 9.5 25.5 A 0.5 0.5 0 1 1 8.5,25.5 A 0.5 0.5 0 1 1 9.5 25.5 z\" style=\"fill:#000000; stroke:#000000;\" /><path d=\"M 15 15.5 A 0.5 1.5 0 1 1 14,15.5 A 0.5 1.5 0 1 1 15 15.5 z\" transform=\"matrix(0.866,0.5,-0.5,0.866,9.693,-5.173)\" style=\"fill:#000000; stroke:#000000;\" /></g><g id=\"white-bishop\" class=\"white bishop\" fill=\"none\" fill-rule=\"evenodd\" stroke=\"#000\" stroke-width=\"1.5\" stroke-linecap=\"round\" stroke-linejoin=\"round\"><g fill=\"#fff\" stroke-linecap=\"butt\"><path d=\"M9 36c3.39-.97 10.11.43 13.5-2 3.39 2.43 10.11 1.03 13.5 2 0 0 1.65.54 3 2-.68.97-1.65.99-3 .5-3.39-.97-10.11.46-13.5-1-3.39 1.46-10.11.03-13.5 1-1.354.49-2.323.47-3-.5 1.354-1.94 3-2 3-2zM15 32c2.5 2.5 12.5 2.5 15 0 .5-1.5 0-2 0-2 0-2.5-2.5-4-2.5-4 5.5-1.5 6-11.5-5-15.5-11 4-10.5 14-5 15.5 0 0-2.5 1.5-2.5 4 0 0-.5.5 0 2zM25 8a2.5 2.5 0 1 1-5 0 2.5 2.5 0 1 1 5 0z\" /></g><path d=\"M17.5 26h10M15 30h15m-7.5-14.5v5M20 18h5\" stroke-linejoin=\"miter\" /></g><g id=\"white-rook\" class=\"white rook\" fill=\"#fff\" fill-rule=\"evenodd\" stroke=\"#000\" stroke-width=\"1.5\" stroke-linecap=\"round\" stroke-linejoin=\"round\"><path d=\"M9 39h27v-3H9v3zM12 36v-4h21v4H12zM11 14V9h4v2h5V9h5v2h5V9h4v5\" stroke-linecap=\"butt\" /><path d=\"M34 14l-3 3H14l-3-3\" /><path d=\"M31 17v12.5H14V17\" stroke-linecap=\"butt\" stroke-linejoin=\"miter\" /><path d=\"M31 29.5l1.5 2.5h-20l1.5-2.5\" /><path d=\"M11 14h23\" fill=\"none\" stroke-linejoin=\"miter\" /></g><g id=\"white-queen\" class=\"white queen\" fill=\"#fff\" fill-rule=\"evenodd\" stroke=\"#000\" stroke-width=\"1.5\" stroke-linecap=\"round\" stroke-linejoin=\"round\"><path d=\"M8 12a2 2 0 1 1-4 0 2 2 0 1 1 4 0zM24.5 7.5a2 2 0 1 1-4 0 2 2 0 1 1 4 0zM41 12a2 2 0 1 1-4 0 2 2 0 1 1 4 0zM16 8.5a2 2 0 1 1-4 0 2 2 0 1 1 4 0zM33 9a2 2 0 1 1-4 0 2 2 0 1 1 4 0z\" /><path d=\"M9 26c8.5-1.5 21-1.5 27 0l2-12-7 11V11l-5.5 13.5-3-15-3 15-5.5-14V25L7 14l2 12zM9 26c0 2 1.5 2 2.5 4 1 1.5 1 1 .5 3.5-1.5 1-1.5 2.5-1.5 2.5-1.5 1.5.5 2.5.5 2.5 6.5 1 16.5 1 23 0 0 0 1.5-1 0-2.5 0 0 .5-1.5-1-2.5-.5-2.5-.5-2 .5-3.5 1-2 2.5-2 2.5-4-8.5-1.5-18.5-1.5-27 0z\" stroke-linecap=\"butt\" /><path d=\"M11.5 30c3.5-1 18.5-1 22 0M12 33.5c6-1 15-1 21 0\" fill=\"none\" /></g><g id=\"white-king\" class=\"white king\" fill=\"none\" fill-rule=\"evenodd\" stroke=\"#000\" stroke-width=\"1.5\" stroke-linecap=\"round\" stroke-linejoin=\"round\"><path d=\"M22.5 11.63V6M20 8h5\" stroke-linejoin=\"miter\" /><path d=\"M22.5 25s4.5-7.5 3-10.5c0 0-1-2.5-3-2.5s-3 2.5-3 2.5c-1.5 3 3 10.5 3 10.5\" fill=\"#fff\" stroke-linecap=\"butt\" stroke-linejoin=\"miter\" /><path d=\"M11.5 37c5.5 3.5 15.5 3.5 21 0v-7s9-4.5 6-10.5c-4-6.5-13.5-3.5-16 4V27v-3.5c-3.5-7.5-13-10.5-16-4-3 6 5 10 5 10V37z\" fill=\"#fff\" /><path d=\"M11.5 30c5.5-3 15.5-3 21 0m-21 3.5c5.5-3 15.5-3 21 0m-21 3.5c5.5-3 15.5-3 21 0\" /></g><g id=\"black-pawn\" class=\"black pawn\"><path d=\"M22.5 9c-2.21 0-4 1.79-4 4 0 .89.29 1.71.78 2.38C17.33 16.5 16 18.59 16 21c0 2.03.94 3.84 2.41 5.03-3 1.06-7.41 5.55-7.41 13.47h23c0-7.92-4.41-12.41-7.41-13.47 1.47-1.19 2.41-3 2.41-5.03 0-2.41-1.33-4.5-3.28-5.62.49-.67.78-1.49.78-2.38 0-2.21-1.79-4-4-4z\" fill=\"#000\" stroke=\"#000\" stroke-width=\"1.5\" stroke-linecap=\"round\" /></g><g id=\"black-knight\" class=\"black knight\" fill=\"none\" fill-rule=\"evenodd\" stroke=\"#000\" stroke-width=\"1.5\" stroke-linecap=\"round\" stroke-linejoin=\"round\"><path d=\"M 22,10 C 32.5,11 38.5,18 38,39 L 15,39 C 15,30 25,32.5 23,18\" style=\"fill:#000000; stroke:#000000;\" /><path d=\"M 24,18 C 24.38,20.91 18.45,25.37 16,27 C 13,29 13.18,31.34 11,31 C 9.958,30.06 12.41,27.96 11,28 C 10,28 11.19,29.23 10,30 C 9,30 5.997,31 6,26 C 6,24 12,14 12,14 C 12,14 13.89,12.1 14,10.5 C 13.27,9.506 13.5,8.5 13.5,7.5 C 14.5,6.5 16.5,10 16.5,10 L 18.5,10 C 18.5,10 19.28,8.008 21,7 C 22,7 22,10 22,10\" style=\"fill:#000000; stroke:#000000;\" /><path d=\"M 9.5 25.5 A 0.5 0.5 0 1 1 8.5,25.5 A 0.5 0.5 0 1 1 9.5 25.5 z\" style=\"fill:#ececec; stroke:#ececec;\" /><path d=\"M 15 15.5 A 0.5 1.5 0 1 1 14,15.5 A 0.5 1.5 0 1 1 15 15.5 z\" transform=\"matrix(0.866,0.5,-0.5,0.866,9.693,-5.173)\" style=\"fill:#ececec; stroke:#ececec;\" /><path d=\"M 24.55,10.4 L 24.1,11.85 L 24.6,12 C 27.75,13 30.25,14.49 32.5,18.75 C 34.75,23.01 35.75,29.06 35.25,39 L 35.2,39.5 L 37.45,39.5 L 37.5,39 C 38,28.94 36.62,22.15 34.25,17.66 C 31.88,13.17 28.46,11.02 25.06,10.5 L 24.55,10.4 z \" style=\"fill:#ececec; stroke:none;\" /></g><g id=\"black-bishop\" class=\"black bishop\" fill=\"none\" fill-rule=\"evenodd\" stroke=\"#000\" stroke-width=\"1.5\" stroke-linecap=\"round\" stroke-linejoin=\"round\"><path d=\"M9 36c3.39-.97 10.11.43 13.5-2 3.39 2.43 10.11 1.03 13.5 2 0 0 1.65.54 3 2-.68.97-1.65.99-3 .5-3.39-.97-10.11.46-13.5-1-3.39 1.46-10.11.03-13.5 1-1.354.49-2.323.47-3-.5 1.354-1.94 3-2 3-2zm6-4c2.5 2.5 12.5 2.5 15 0 .5-1.5 0-2 0-2 0-2.5-2.5-4-2.5-4 5.5-1.5 6-11.5-5-15.5-11 4-10.5 14-5 15.5 0 0-2.5 1.5-2.5 4 0 0-.5.5 0 2zM25 8a2.5 2.5 0 1 1-5 0 2.5 2.5 0 1 1 5 0z\" fill=\"#000\" stroke-linecap=\"butt\" /><path d=\"M17.5 26h10M15 30h15m-7.5-14.5v5M20 18h5\" stroke=\"#fff\" stroke-linejoin=\"miter\" /></g><g id=\"black-rook\" class=\"black rook\" fill=\"#000\" fill-rule=\"evenodd\" stroke=\"#000\" stroke-width=\"1.5\" stroke-linecap=\"round\" stroke-linejoin=\"round\"><path d=\"M9 39h27v-3H9v3zM12.5 32l1.5-2.5h17l1.5 2.5h-20zM12 36v-4h21v4H12z\" stroke-linecap=\"butt\" /><path d=\"M14 29.5v-13h17v13H14z\" stroke-linecap=\"butt\" stroke-linejoin=\"miter\" /><path d=\"M14 16.5L11 14h23l-3 2.5H14zM11 14V9h4v2h5V9h5v2h5V9h4v5H11z\" stroke-linecap=\"butt\" /><path d=\"M12 35.5h21M13 31.5h19M14 29.5h17M14 16.5h17M11 14h23\" fill=\"none\" stroke=\"#fff\" stroke-width=\"1\" stroke-linejoin=\"miter\" /></g><g id=\"black-queen\" class=\"black queen\" fill=\"#000\" fill-rule=\"evenodd\" stroke=\"#000\" stroke-width=\"1.5\" stroke-linecap=\"round\" stroke-linejoin=\"round\"><g fill=\"#000\" stroke=\"none\"><circle cx=\"6\" cy=\"12\" r=\"2.75\" /><circle cx=\"14\" cy=\"9\" r=\"2.75\" /><circle cx=\"22.5\" cy=\"8\" r=\"2.75\" /><circle cx=\"31\" cy=\"9\" r=\"2.75\" /><circle cx=\"39\" cy=\"12\" r=\"2.75\" /></g><path d=\"M9 26c8.5-1.5 21-1.5 27 0l2.5-12.5L31 25l-.3-14.1-5.2 13.6-3-14.5-3 14.5-5.2-13.6L14 25 6.5 13.5 9 26zM9 26c0 2 1.5 2 2.5 4 1 1.5 1 1 .5 3.5-1.5 1-1.5 2.5-1.5 2.5-1.5 1.5.5 2.5.5 2.5 6.5 1 16.5 1 23 0 0 0 1.5-1 0-2.5 0 0 .5-1.5-1-2.5-.5-2.5-.5-2 .5-3.5 1-2 2.5-2 2.5-4-8.5-1.5-18.5-1.5-27 0z\" stroke-linecap=\"butt\" /><path d=\"M11 38.5a35 35 1 0 0 23 0\" fill=\"none\" stroke-linecap=\"butt\" /><path d=\"M11 29a35 35 1 0 1 23 0M12.5 31.5h20M11.5 34.5a35 35 1 0 0 22 0M10.5 37.5a35 35 1 0 0 24 0\" fill=\"none\" stroke=\"#fff\" /></g><g id=\"black-king\" class=\"black king\" fill=\"none\" fill-rule=\"evenodd\" stroke=\"#000\" stroke-width=\"1.5\" stroke-linecap=\"round\" stroke-linejoin=\"round\"><path d=\"M22.5 11.63V6\" stroke-linejoin=\"miter\" /><path d=\"M22.5 25s4.5-7.5 3-10.5c0 0-1-2.5-3-2.5s-3 2.5-3 2.5c-1.5 3 3 10.5 3 10.5\" fill=\"#000\" stroke-linecap=\"butt\" stroke-linejoin=\"miter\" /><path d=\"M11.5 37c5.5 3.5 15.5 3.5 21 0v-7s9-4.5 6-10.5c-4-6.5-13.5-3.5-16 4V27v-3.5c-3.5-7.5-13-10.5-16-4-3 6 5 10 5 10V37z\" fill=\"#000\" /><path d=\"M20 8h5\" stroke-linejoin=\"miter\" /><path d=\"M32 29.5s8.5-4 6.03-9.65C34.15 14 25 18 22.5 24.5l.01 2.1-.01-2.1C20 18 9.906 14 6.997 19.85c-2.497 5.65 4.853 9 4.853 9M11.5 30c5.5-3 15.5-3 21 0m-21 3.5c5.5-3 15.5-3 21 0m-21 3.5c5.5-3 15.5-3 21 0\" stroke=\"#fff\" /></g></defs><rect x=\"0\" y=\"0\" width=\"390\" height=\"390\" fill=\"#212121\" /><g transform=\"translate(20, 0) scale(0.75, 0.75)\" fill=\"#e5e5e5\" stroke=\"#e5e5e5\"><path d=\"M23.328 10.016q-1.742 0-2.414.398-.672.398-.672 1.36 0 .765.5 1.218.508.445 1.375.445 1.196 0 1.914-.843.727-.852.727-2.258v-.32zm2.867-.594v4.992h-1.437v-1.328q-.492.797-1.227 1.18-.734.375-1.797.375-1.343 0-2.14-.75-.79-.758-.79-2.024 0-1.476.985-2.226.992-.75 2.953-.75h2.016V8.75q0-.992-.656-1.531-.649-.547-1.829-.547-.75 0-1.46.18-.711.18-1.368.539V6.062q.79-.304 1.532-.453.742-.156 1.445-.156 1.898 0 2.836.984.937.985.937 2.985z\" /></g><g transform=\"translate(20, 375) scale(0.75, 0.75)\" fill=\"#e5e5e5\" stroke=\"#e5e5e5\"><path d=\"M23.328 10.016q-1.742 0-2.414.398-.672.398-.672 1.36 0 .765.5 1.218.508.445 1.375.445 1.196 0 1.914-.843.727-.852.727-2.258v-.32zm2.867-.594v4.992h-1.437v-1.328q-.492.797-1.227 1.18-.734.375-1.797.375-1.343 0-2.14-.75-.79-.758-.79-2.024 0-1.476.985-2.226.992-.75 2.953-.75h2.016V8.75q0-.992-.656-1.531-.649-.547-1.829-.547-.75 0-1.46.18-.711.18-1.368.539V6.062q.79-.304 1.532-.453.742-.156 1.445-.156 1.898 0 2.836.984.937.985.937 2.985z\" /></g><g transform=\"translate(65, 0) scale(0.75, 0.75)\" fill=\"#e5e5e5\" stroke=\"#e5e5e5\"><path d=\"M24.922 10.047q0-1.586-.656-2.485-.649-.906-1.79-.906-1.14 0-1.796.906-.649.899-.649 2.485 0 1.586.649 2.492.656.898 1.797.898 1.14 0 1.789-.898.656-.906.656-2.492zm-4.89-3.055q.452-.781 1.14-1.156.695-.383 1.656-.383 1.594 0 2.586 1.266 1 1.265 1 3.328 0 2.062-1 3.328-.992 1.266-2.586 1.266-.96 0-1.656-.375-.688-.383-1.14-1.164v1.312h-1.446V2.258h1.445z\" /></g><g transform=\"translate(65, 375) scale(0.75, 0.75)\" fill=\"#e5e5e5\" stroke=\"#e5e5e5\"><path d=\"M24.922 10.047q0-1.586-.656-2.485-.649-.906-1.79-.906-1.14 0-1.796.906-.649.899-.649 2.485 0 1.586.649 2.492.656.898 1.797.898 1.14 0 1.789-.898.656-.906.656-2.492zm-4.89-3.055q.452-.781 1.14-1.156.695-.383 1.656-.383 1.594 0 2.586 1.266 1 1.265 1 3.328 0 2.062-1 3.328-.992 1.266-2.586 1.266-.96 0-1.656-.375-.688-.383-1.14-1.164v1.312h-1.446V2.258h1.445z\" /></g><g transform=\"translate(110, 0) scale(0.75, 0.75)\" fill=\"#e5e5e5\" stroke=\"#e5e5e5\"><path d=\"M25.96 6v1.344q-.608-.336-1.226-.5-.609-.172-1.234-.172-1.398 0-2.172.89-.773.883-.773 2.485 0 1.601.773 2.492.774.883 2.172.883.625 0 1.234-.164.618-.172 1.227-.508v1.328q-.602.281-1.25.422-.64.14-1.367.14-1.977 0-3.14-1.242-1.165-1.242-1.165-3.351 0-2.14 1.172-3.367 1.18-1.227 3.227-1.227.664 0 1.296.14.633.134 1.227.407z\" /></g><g transform=\"translate(110, 375) scale(0.75, 0.75)\" fill=\"#e5e5e5\" stroke=\"#e5e5e5\"><path d=\"M25.96 6v1.344q-.608-.336-1.226-.5-.609-.172-1.234-.172-1.398 0-2.172.89-.773.883-.773 2.485 0 1.601.773 2.492.774.883 2.172.883.625 0 1.234-.164.618-.172 1.227-.508v1.328q-.602.281-1.25.422-.64.14-1.367.14-1.977 0-3.14-1.242-1.165-1.242-1.165-3.351 0-2.14 1.172-3.367 1.18-1.227 3.227-1.227.664 0 1.296.14.633.134 1.227.407z\" /></g><g transform=\"translate(155, 0) scale(0.75, 0.75)\" fill=\"#e5e5e5\" stroke=\"#e5e5e5\"><path d=\"M24.973 6.992V2.258h1.437v12.156h-1.437v-1.312q-.453.78-1.149 1.164-.687.375-1.656.375-1.586 0-2.586-1.266-.992-1.266-.992-3.328 0-2.063.992-3.328 1-1.266 2.586-1.266.969 0 1.656.383.696.375 1.149 1.156zm-4.899 3.055q0 1.586.649 2.492.656.898 1.797.898 1.14 0 1.796-.898.657-.906.657-2.492 0-1.586-.657-2.485-.656-.906-1.796-.906-1.141 0-1.797.906-.649.899-.649 2.485z\" /></g><g transform=\"translate(155, 375) scale(0.75, 0.75)\" fill=\"#e5e5e5\" stroke=\"#e5e5e5\"><path d=\"M24.973 6.992V2.258h1.437v12.156h-1.437v-1.312q-.453.78-1.149 1.164-.687.375-1.656.375-1.586 0-2.586-1.266-.992-1.266-.992-3.328 0-2.063.992-3.328 1-1.266 2.586-1.266.969 0 1.656.383.696.375 1.149 1.156zm-4.899 3.055q0 1.586.649 2.492.656.898 1.797.898 1.14 0 1.796-.898.657-.906.657-2.492 0-1.586-.657-2.485-.656-.906-1.796-.906-1.141 0-1.797.906-.649.899-.649 2.485z\" /></g><g transform=\"translate(200, 0) scale(0.75, 0.75)\" fill=\"#e5e5e5\" stroke=\"#e5e5e5\"><path d=\"M26.555 9.68v.703h-6.61q.094 1.484.89 2.265.806.774 2.235.774.828 0 1.602-.203.781-.203 1.547-.61v1.36q-.774.328-1.586.5-.813.172-1.649.172-2.093 0-3.32-1.22-1.219-1.218-1.219-3.296 0-2.148 1.157-3.406 1.164-1.266 3.132-1.266 1.766 0 2.79 1.14 1.03 1.134 1.03 3.087zm-1.438-.422q-.015-1.18-.664-1.883-.64-.703-1.703-.703-1.203 0-1.93.68-.718.68-.828 1.914z\" /></g><g transform=\"translate(200, 375) scale(0.75, 0.75)\" fill=\"#e5e5e5\" stroke=\"#e5e5e5\"><path d=\"M26.555 9.68v.703h-6.61q.094 1.484.89 2.265.806.774 2.235.774.828 0 1.602-.203.781-.203 1.547-.61v1.36q-.774.328-1.586.5-.813.172-1.649.172-2.093 0-3.32-1.22-1.219-1.218-1.219-3.296 0-2.148 1.157-3.406 1.164-1.266 3.132-1.266 1.766 0 2.79 1.14 1.03 1.134 1.03 3.087zm-1.438-.422q-.015-1.18-.664-1.883-.64-.703-1.703-.703-1.203 0-1.93.68-.718.68-.828 1.914z\" /></g><g transform=\"translate(245, 0) scale(0.75, 0.75)\" fill=\"#e5e5e5\" stroke=\"#e5e5e5\"><path d=\"M25.285 2.258v1.195H23.91q-.773 0-1.078.313-.297.312-.297 1.125v.773h2.367v1.117h-2.367v7.633H21.09V6.781h-1.375V5.664h1.375v-.61q0-1.46.68-2.124.68-.672 2.156-.672z\" /></g><g transform=\"translate(245, 375) scale(0.75, 0.75)\" fill=\"#e5e5e5\" stroke=\"#e5e5e5\"><path d=\"M25.285 2.258v1.195H23.91q-.773 0-1.078.313-.297.312-.297 1.125v.773h2.367v1.117h-2.367v7.633H21.09V6.781h-1.375V5.664h1.375v-.61q0-1.46.68-2.124.68-.672 2.156-.672z\" /></g><g transform=\"translate(290, 0) scale(0.75, 0.75)\" fill=\"#e5e5e5\" stroke=\"#e5e5e5\"><path d=\"M24.973 9.937q0-1.562-.649-2.421-.64-.86-1.804-.86-1.157 0-1.805.86-.64.859-.64 2.421 0 1.555.64 2.415.648.859 1.805.859 1.164 0 1.804-.86.649-.859.649-2.414zm1.437 3.391q0 2.234-.992 3.32-.992 1.094-3.04 1.094-.757 0-1.429-.117-.672-.11-1.304-.344v-1.398q.632.344 1.25.508.617.164 1.257.164 1.414 0 2.118-.743.703-.734.703-2.226v-.711q-.446.773-1.141 1.156-.695.383-1.664.383-1.61 0-2.594-1.227-.984-1.226-.984-3.25 0-2.03.984-3.257.985-1.227 2.594-1.227.969 0 1.664.383t1.14 1.156V5.664h1.438z\" /></g><g transform=\"translate(290, 375) scale(0.75, 0.75)\" fill=\"#e5e5e5\" stroke=\"#e5e5e5\"><path d=\"M24.973 9.937q0-1.562-.649-2.421-.64-.86-1.804-.86-1.157 0-1.805.86-.64.859-.64 2.421 0 1.555.64 2.415.648.859 1.805.859 1.164 0 1.804-.86.649-.859.649-2.414zm1.437 3.391q0 2.234-.992 3.32-.992 1.094-3.04 1.094-.757 0-1.429-.117-.672-.11-1.304-.344v-1.398q.632.344 1.25.508.617.164 1.257.164 1.414 0 2.118-.743.703-.734.703-2.226v-.711q-.446.773-1.141 1.156-.695.383-1.664.383-1.61 0-2.594-1.227-.984-1.226-.984-3.25 0-2.03.984-3.257.985-1.227 2.594-1.227.969 0 1.664.383t1.14 1.156V5.664h1.438z\" /></g><g transform=\"translate(335, 0) scale(0.75, 0.75)\" fill=\"#e5e5e5\" stroke=\"#e5e5e5\"><path d=\"M26.164 9.133v5.281h-1.437V9.18q0-1.243-.485-1.86-.484-.617-1.453-.617-1.164 0-1.836.742-.672.742-.672 2.024v4.945h-1.445V2.258h1.445v4.765q.516-.789 1.211-1.18.703-.39 1.617-.39 1.508 0 2.282.938.773.93.773 2.742z\" /></g><g transform=\"translate(335, 375) scale(0.75, 0.75)\" fill=\"#e5e5e5\" stroke=\"#e5e5e5\"><path d=\"M26.164 9.133v5.281h-1.437V9.18q0-1.243-.485-1.86-.484-.617-1.453-.617-1.164 0-1.836.742-.672.742-.672 2.024v4.945h-1.445V2.258h1.445v4.765q.516-.789 1.211-1.18.703-.39 1.617-.39 1.508 0 2.282.938.773.93.773 2.742z\" /></g><g transform=\"translate(0, 335) scale(0.75, 0.75)\" fill=\"#e5e5e5\" stroke=\"#e5e5e5\"><path d=\"M6.754 26.996h2.578v-8.898l-2.805.562v-1.437l2.79-.563h1.578v10.336h2.578v1.328h-6.72z\" /></g><g transform=\"translate(375, 335) scale(0.75, 0.75)\" fill=\"#e5e5e5\" stroke=\"#e5e5e5\"><path d=\"M6.754 26.996h2.578v-8.898l-2.805.562v-1.437l2.79-.563h1.578v10.336h2.578v1.328h-6.72z\" /></g><g transform=\"translate(0, 290) scale(0.75, 0.75)\" fill=\"#e5e5e5\" stroke=\"#e5e5e5\"><path d=\"M8.195 26.996h5.508v1.328H6.297v-1.328q.898-.93 2.445-2.492 1.555-1.57 1.953-2.024.758-.851 1.055-1.437.305-.594.305-1.164 0-.93-.657-1.516-.648-.586-1.695-.586-.742 0-1.57.258-.82.258-1.758.781v-1.593q.953-.383 1.781-.578.828-.196 1.516-.196 1.812 0 2.89.906 1.079.907 1.079 2.422 0 .72-.274 1.368-.265.64-.976 1.515-.196.227-1.243 1.313-1.046 1.078-2.953 3.023z\" /></g><g transform=\"translate(375, 290) scale(0.75, 0.75)\" fill=\"#e5e5e5\" stroke=\"#e5e5e5\"><path d=\"M8.195 26.996h5.508v1.328H6.297v-1.328q.898-.93 2.445-2.492 1.555-1.57 1.953-2.024.758-.851 1.055-1.437.305-.594.305-1.164 0-.93-.657-1.516-.648-.586-1.695-.586-.742 0-1.57.258-.82.258-1.758.781v-1.593q.953-.383 1.781-.578.828-.196 1.516-.196 1.812 0 2.89.906 1.079.907 1.079 2.422 0 .72-.274 1.368-.265.64-.976 1.515-.196.227-1.243 1.313-1.046 1.078-2.953 3.023z\" /></g><g transform=\"translate(0, 245) scale(0.75, 0.75)\" fill=\"#e5e5e5\" stroke=\"#e5e5e5\"><path d=\"M11.434 22.035q1.132.242 1.765 1.008.64.766.64 1.89 0 1.727-1.187 2.672-1.187.946-3.375.946-.734 0-1.515-.149-.774-.14-1.602-.43V26.45q.656.383 1.438.578.78.196 1.632.196 1.485 0 2.258-.586.782-.586.782-1.703 0-1.032-.727-1.61-.719-.586-2.008-.586h-1.36v-1.297h1.423q1.164 0 1.78-.46.618-.47.618-1.344 0-.899-.64-1.375-.633-.485-1.82-.485-.65 0-1.391.141-.743.14-1.633.437V16.95q.898-.25 1.68-.375.788-.125 1.484-.125 1.797 0 2.844.82 1.046.813 1.046 2.204 0 .968-.554 1.64-.555.664-1.578.922z\" /></g><g transform=\"translate(375, 245) scale(0.75, 0.75)\" fill=\"#e5e5e5\" stroke=\"#e5e5e5\"><path d=\"M11.434 22.035q1.132.242 1.765 1.008.64.766.64 1.89 0 1.727-1.187 2.672-1.187.946-3.375.946-.734 0-1.515-.149-.774-.14-1.602-.43V26.45q.656.383 1.438.578.78.196 1.632.196 1.485 0 2.258-.586.782-.586.782-1.703 0-1.032-.727-1.61-.719-.586-2.008-.586h-1.36v-1.297h1.423q1.164 0 1.78-.46.618-.47.618-1.344 0-.899-.64-1.375-.633-.485-1.82-.485-.65 0-1.391.141-.743.14-1.633.437V16.95q.898-.25 1.68-.375.788-.125 1.484-.125 1.797 0 2.844.82 1.046.813 1.046 2.204 0 .968-.554 1.64-.555.664-1.578.922z\" /></g><g transform=\"translate(0, 200) scale(0.75, 0.75)\" fill=\"#e5e5e5\" stroke=\"#e5e5e5\"><path d=\"M11.016 18.035L7.03 24.262h3.985zm-.414-1.375h1.984v7.602h1.664v1.312h-1.664v2.75h-1.57v-2.75H5.75v-1.523z\" /></g><g transform=\"translate(375, 200) scale(0.75, 0.75)\" fill=\"#e5e5e5\" stroke=\"#e5e5e5\"><path d=\"M11.016 18.035L7.03 24.262h3.985zm-.414-1.375h1.984v7.602h1.664v1.312h-1.664v2.75h-1.57v-2.75H5.75v-1.523z\" /></g><g transform=\"translate(0, 155) scale(0.75, 0.75)\" fill=\"#e5e5e5\" stroke=\"#e5e5e5\"><path d=\"M6.719 16.66h6.195v1.328h-4.75v2.86q.344-.118.688-.172.343-.063.687-.063 1.953 0 3.094 1.07 1.14 1.07 1.14 2.899 0 1.883-1.171 2.93-1.172 1.039-3.305 1.039-.735 0-1.5-.125-.758-.125-1.57-.375v-1.586q.703.383 1.453.57.75.188 1.586.188 1.351 0 2.14-.711.79-.711.79-1.93 0-1.219-.79-1.93-.789-.71-2.14-.71-.633 0-1.266.14-.625.14-1.281.438z\" /></g><g transform=\"translate(375, 155) scale(0.75, 0.75)\" fill=\"#e5e5e5\" stroke=\"#e5e5e5\"><path d=\"M6.719 16.66h6.195v1.328h-4.75v2.86q.344-.118.688-.172.343-.063.687-.063 1.953 0 3.094 1.07 1.14 1.07 1.14 2.899 0 1.883-1.171 2.93-1.172 1.039-3.305 1.039-.735 0-1.5-.125-.758-.125-1.57-.375v-1.586q.703.383 1.453.57.75.188 1.586.188 1.351 0 2.14-.711.79-.711.79-1.93 0-1.219-.79-1.93-.789-.71-2.14-.71-.633 0-1.266.14-.625.14-1.281.438z\" /></g><g transform=\"translate(0, 110) scale(0.75, 0.75)\" fill=\"#e5e5e5\" stroke=\"#e5e5e5\"><path d=\"M10.137 21.863q-1.063 0-1.688.727-.617.726-.617 1.992 0 1.258.617 1.992.625.727 1.688.727 1.062 0 1.68-.727.624-.734.624-1.992 0-1.266-.625-1.992-.617-.727-1.68-.727zm3.133-4.945v1.437q-.594-.28-1.204-.43-.601-.148-1.195-.148-1.562 0-2.39 1.055-.82 1.055-.938 3.188.46-.68 1.156-1.04.696-.367 1.531-.367 1.758 0 2.774 1.07 1.023 1.063 1.023 2.899 0 1.797-1.062 2.883-1.063 1.086-2.828 1.086-2.024 0-3.094-1.547-1.07-1.555-1.07-4.5 0-2.766 1.312-4.406 1.313-1.649 3.524-1.649.593 0 1.195.117.61.118 1.266.352z\" /></g><g transform=\"translate(375, 110) scale(0.75, 0.75)\" fill=\"#e5e5e5\" stroke=\"#e5e5e5\"><path d=\"M10.137 21.863q-1.063 0-1.688.727-.617.726-.617 1.992 0 1.258.617 1.992.625.727 1.688.727 1.062 0 1.68-.727.624-.734.624-1.992 0-1.266-.625-1.992-.617-.727-1.68-.727zm3.133-4.945v1.437q-.594-.28-1.204-.43-.601-.148-1.195-.148-1.562 0-2.39 1.055-.82 1.055-.938 3.188.46-.68 1.156-1.04.696-.367 1.531-.367 1.758 0 2.774 1.07 1.023 1.063 1.023 2.899 0 1.797-1.062 2.883-1.063 1.086-2.828 1.086-2.024 0-3.094-1.547-1.07-1.555-1.07-4.5 0-2.766 1.312-4.406 1.313-1.649 3.524-1.649.593 0 1.195.117.61.118 1.266.352z\" /></g><g transform=\"translate(0, 65) scale(0.75, 0.75)\" fill=\"#e5e5e5\" stroke=\"#e5e5e5\"><path d=\"M6.25 16.66h7.5v.672L9.516 28.324H7.867l3.985-10.336H6.25z\" /></g><g transform=\"translate(375, 65) scale(0.75, 0.75)\" fill=\"#e5e5e5\" stroke=\"#e5e5e5\"><path d=\"M6.25 16.66h7.5v.672L9.516 28.324H7.867l3.985-10.336H6.25z\" /></g><g transform=\"translate(0, 20) scale(0.75, 0.75)\" fill=\"#e5e5e5\" stroke=\"#e5e5e5\"><path d=\"M10 22.785q-1.125 0-1.773.602-.641.601-.641 1.656t.64 1.656q.649.602 1.774.602t1.773-.602q.649-.61.649-1.656 0-1.055-.649-1.656-.64-.602-1.773-.602zm-1.578-.672q-1.016-.25-1.586-.945-.563-.695-.563-1.695 0-1.399.993-2.211 1-.813 2.734-.813 1.742 0 2.734.813.993.812.993 2.21 0 1-.57 1.696-.563.695-1.571.945 1.14.266 1.773 1.04.641.773.641 1.89 0 1.695-1.04 2.602-1.03.906-2.96.906t-2.969-.906Q6 26.738 6 25.043q0-1.117.64-1.89.641-.774 1.782-1.04zm-.578-2.492q0 .906.562 1.414.57.508 1.594.508 1.016 0 1.586-.508.578-.508.578-1.414 0-.906-.578-1.414-.57-.508-1.586-.508-1.023 0-1.594.508-.562.508-.562 1.414z\" /></g><g transform=\"translate(375, 20) scale(0.75, 0.75)\" fill=\"#e5e5e5\" stroke=\"#e5e5e5\"><path d=\"M10 22.785q-1.125 0-1.773.602-.641.601-.641 1.656t.64 1.656q.649.602 1.774.602t1.773-.602q.649-.61.649-1.656 0-1.055-.649-1.656-.64-.602-1.773-.602zm-1.578-.672q-1.016-.25-1.586-.945-.563-.695-.563-1.695 0-1.399.993-2.211 1-.813 2.734-.813 1.742 0 2.734.813.993.812.993 2.21 0 1-.57 1.696-.563.695-1.571.945 1.14.266 1.773 1.04.641.773.641 1.89 0 1.695-1.04 2.602-1.03.906-2.96.906t-2.969-.906Q6 26.738 6 25.043q0-1.117.64-1.89.641-.774 1.782-1.04zm-.578-2.492q0 .906.562 1.414.57.508 1.594.508 1.016 0 1.586-.508.578-.508.578-1.414 0-.906-.578-1.414-.57-.508-1.586-.508-1.023 0-1.594.508-.562.508-.562 1.414z\" /></g><rect x=\"15\" y=\"330\" width=\"45\" height=\"45\" class=\"square dark a1\" stroke=\"none\" fill=\"#d18b47\" /><rect x=\"60\" y=\"330\" width=\"45\" height=\"45\" class=\"square light b1\" stroke=\"none\" fill=\"#ffce9e\" /><rect x=\"105\" y=\"330\" width=\"45\" height=\"45\" class=\"square dark c1\" stroke=\"none\" fill=\"#d18b47\" /><rect x=\"150\" y=\"330\" width=\"45\" height=\"45\" class=\"square light d1\" stroke=\"none\" fill=\"#ffce9e\" /><rect x=\"195\" y=\"330\" width=\"45\" height=\"45\" class=\"square dark e1\" stroke=\"none\" fill=\"#d18b47\" /><rect x=\"240\" y=\"330\" width=\"45\" height=\"45\" class=\"square light f1\" stroke=\"none\" fill=\"#ffce9e\" /><rect x=\"285\" y=\"330\" width=\"45\" height=\"45\" class=\"square dark g1\" stroke=\"none\" fill=\"#d18b47\" /><rect x=\"330\" y=\"330\" width=\"45\" height=\"45\" class=\"square light h1\" stroke=\"none\" fill=\"#ffce9e\" /><rect x=\"15\" y=\"285\" width=\"45\" height=\"45\" class=\"square light a2\" stroke=\"none\" fill=\"#ffce9e\" /><rect x=\"60\" y=\"285\" width=\"45\" height=\"45\" class=\"square dark b2\" stroke=\"none\" fill=\"#d18b47\" /><rect x=\"105\" y=\"285\" width=\"45\" height=\"45\" class=\"square light c2\" stroke=\"none\" fill=\"#ffce9e\" /><rect x=\"150\" y=\"285\" width=\"45\" height=\"45\" class=\"square dark d2\" stroke=\"none\" fill=\"#d18b47\" /><rect x=\"195\" y=\"285\" width=\"45\" height=\"45\" class=\"square light e2\" stroke=\"none\" fill=\"#ffce9e\" /><rect x=\"240\" y=\"285\" width=\"45\" height=\"45\" class=\"square dark f2\" stroke=\"none\" fill=\"#d18b47\" /><rect x=\"285\" y=\"285\" width=\"45\" height=\"45\" class=\"square light g2\" stroke=\"none\" fill=\"#ffce9e\" /><rect x=\"330\" y=\"285\" width=\"45\" height=\"45\" class=\"square dark h2\" stroke=\"none\" fill=\"#d18b47\" /><rect x=\"15\" y=\"240\" width=\"45\" height=\"45\" class=\"square dark a3\" stroke=\"none\" fill=\"#d18b47\" /><rect x=\"60\" y=\"240\" width=\"45\" height=\"45\" class=\"square light b3\" stroke=\"none\" fill=\"#ffce9e\" /><rect x=\"105\" y=\"240\" width=\"45\" height=\"45\" class=\"square dark c3\" stroke=\"none\" fill=\"#d18b47\" /><rect x=\"150\" y=\"240\" width=\"45\" height=\"45\" class=\"square light d3\" stroke=\"none\" fill=\"#ffce9e\" /><rect x=\"195\" y=\"240\" width=\"45\" height=\"45\" class=\"square dark e3\" stroke=\"none\" fill=\"#d18b47\" /><rect x=\"240\" y=\"240\" width=\"45\" height=\"45\" class=\"square light f3\" stroke=\"none\" fill=\"#ffce9e\" /><rect x=\"285\" y=\"240\" width=\"45\" height=\"45\" class=\"square dark g3\" stroke=\"none\" fill=\"#d18b47\" /><rect x=\"330\" y=\"240\" width=\"45\" height=\"45\" class=\"square light h3\" stroke=\"none\" fill=\"#ffce9e\" /><rect x=\"15\" y=\"195\" width=\"45\" height=\"45\" class=\"square light a4\" stroke=\"none\" fill=\"#ffce9e\" /><rect x=\"60\" y=\"195\" width=\"45\" height=\"45\" class=\"square dark b4\" stroke=\"none\" fill=\"#d18b47\" /><rect x=\"105\" y=\"195\" width=\"45\" height=\"45\" class=\"square light c4\" stroke=\"none\" fill=\"#ffce9e\" /><rect x=\"150\" y=\"195\" width=\"45\" height=\"45\" class=\"square dark d4\" stroke=\"none\" fill=\"#d18b47\" /><rect x=\"195\" y=\"195\" width=\"45\" height=\"45\" class=\"square light e4\" stroke=\"none\" fill=\"#ffce9e\" /><rect x=\"240\" y=\"195\" width=\"45\" height=\"45\" class=\"square dark f4\" stroke=\"none\" fill=\"#d18b47\" /><rect x=\"285\" y=\"195\" width=\"45\" height=\"45\" class=\"square light g4\" stroke=\"none\" fill=\"#ffce9e\" /><rect x=\"330\" y=\"195\" width=\"45\" height=\"45\" class=\"square dark h4\" stroke=\"none\" fill=\"#d18b47\" /><rect x=\"15\" y=\"150\" width=\"45\" height=\"45\" class=\"square dark a5\" stroke=\"none\" fill=\"#d18b47\" /><rect x=\"60\" y=\"150\" width=\"45\" height=\"45\" class=\"square light b5\" stroke=\"none\" fill=\"#ffce9e\" /><rect x=\"105\" y=\"150\" width=\"45\" height=\"45\" class=\"square dark c5\" stroke=\"none\" fill=\"#d18b47\" /><rect x=\"150\" y=\"150\" width=\"45\" height=\"45\" class=\"square light d5\" stroke=\"none\" fill=\"#ffce9e\" /><rect x=\"195\" y=\"150\" width=\"45\" height=\"45\" class=\"square dark e5\" stroke=\"none\" fill=\"#d18b47\" /><rect x=\"240\" y=\"150\" width=\"45\" height=\"45\" class=\"square light f5\" stroke=\"none\" fill=\"#ffce9e\" /><rect x=\"285\" y=\"150\" width=\"45\" height=\"45\" class=\"square dark g5\" stroke=\"none\" fill=\"#d18b47\" /><rect x=\"330\" y=\"150\" width=\"45\" height=\"45\" class=\"square light h5\" stroke=\"none\" fill=\"#ffce9e\" /><rect x=\"15\" y=\"105\" width=\"45\" height=\"45\" class=\"square light a6\" stroke=\"none\" fill=\"#ffce9e\" /><rect x=\"60\" y=\"105\" width=\"45\" height=\"45\" class=\"square dark b6\" stroke=\"none\" fill=\"#d18b47\" /><rect x=\"105\" y=\"105\" width=\"45\" height=\"45\" class=\"square light c6\" stroke=\"none\" fill=\"#ffce9e\" /><rect x=\"150\" y=\"105\" width=\"45\" height=\"45\" class=\"square dark d6\" stroke=\"none\" fill=\"#d18b47\" /><rect x=\"195\" y=\"105\" width=\"45\" height=\"45\" class=\"square light e6\" stroke=\"none\" fill=\"#ffce9e\" /><rect x=\"240\" y=\"105\" width=\"45\" height=\"45\" class=\"square dark f6\" stroke=\"none\" fill=\"#d18b47\" /><rect x=\"285\" y=\"105\" width=\"45\" height=\"45\" class=\"square light g6\" stroke=\"none\" fill=\"#ffce9e\" /><rect x=\"330\" y=\"105\" width=\"45\" height=\"45\" class=\"square dark h6\" stroke=\"none\" fill=\"#d18b47\" /><rect x=\"15\" y=\"60\" width=\"45\" height=\"45\" class=\"square dark a7\" stroke=\"none\" fill=\"#d18b47\" /><rect x=\"60\" y=\"60\" width=\"45\" height=\"45\" class=\"square light b7\" stroke=\"none\" fill=\"#ffce9e\" /><rect x=\"105\" y=\"60\" width=\"45\" height=\"45\" class=\"square dark c7\" stroke=\"none\" fill=\"#d18b47\" /><rect x=\"150\" y=\"60\" width=\"45\" height=\"45\" class=\"square light d7\" stroke=\"none\" fill=\"#ffce9e\" /><rect x=\"195\" y=\"60\" width=\"45\" height=\"45\" class=\"square dark e7\" stroke=\"none\" fill=\"#d18b47\" /><rect x=\"240\" y=\"60\" width=\"45\" height=\"45\" class=\"square light f7\" stroke=\"none\" fill=\"#ffce9e\" /><rect x=\"285\" y=\"60\" width=\"45\" height=\"45\" class=\"square dark g7\" stroke=\"none\" fill=\"#d18b47\" /><rect x=\"330\" y=\"60\" width=\"45\" height=\"45\" class=\"square light h7\" stroke=\"none\" fill=\"#ffce9e\" /><rect x=\"15\" y=\"15\" width=\"45\" height=\"45\" class=\"square light a8\" stroke=\"none\" fill=\"#ffce9e\" /><rect x=\"60\" y=\"15\" width=\"45\" height=\"45\" class=\"square dark b8\" stroke=\"none\" fill=\"#d18b47\" /><rect x=\"105\" y=\"15\" width=\"45\" height=\"45\" class=\"square light c8\" stroke=\"none\" fill=\"#ffce9e\" /><rect x=\"150\" y=\"15\" width=\"45\" height=\"45\" class=\"square dark d8\" stroke=\"none\" fill=\"#d18b47\" /><rect x=\"195\" y=\"15\" width=\"45\" height=\"45\" class=\"square light e8\" stroke=\"none\" fill=\"#ffce9e\" /><rect x=\"240\" y=\"15\" width=\"45\" height=\"45\" class=\"square dark f8\" stroke=\"none\" fill=\"#d18b47\" /><rect x=\"285\" y=\"15\" width=\"45\" height=\"45\" class=\"square light g8\" stroke=\"none\" fill=\"#ffce9e\" /><rect x=\"330\" y=\"15\" width=\"45\" height=\"45\" class=\"square dark h8\" stroke=\"none\" fill=\"#d18b47\" /><use href=\"#white-rook\" xlink:href=\"#white-rook\" transform=\"translate(15, 330)\" /><use href=\"#white-knight\" xlink:href=\"#white-knight\" transform=\"translate(60, 330)\" /><use href=\"#white-bishop\" xlink:href=\"#white-bishop\" transform=\"translate(105, 330)\" /><use href=\"#white-queen\" xlink:href=\"#white-queen\" transform=\"translate(150, 330)\" /><use href=\"#white-king\" xlink:href=\"#white-king\" transform=\"translate(195, 330)\" /><use href=\"#white-bishop\" xlink:href=\"#white-bishop\" transform=\"translate(240, 330)\" /><use href=\"#white-knight\" xlink:href=\"#white-knight\" transform=\"translate(285, 330)\" /><use href=\"#white-rook\" xlink:href=\"#white-rook\" transform=\"translate(330, 330)\" /><use href=\"#white-pawn\" xlink:href=\"#white-pawn\" transform=\"translate(15, 285)\" /><use href=\"#white-pawn\" xlink:href=\"#white-pawn\" transform=\"translate(60, 285)\" /><use href=\"#white-pawn\" xlink:href=\"#white-pawn\" transform=\"translate(105, 285)\" /><use href=\"#white-pawn\" xlink:href=\"#white-pawn\" transform=\"translate(150, 285)\" /><use href=\"#white-pawn\" xlink:href=\"#white-pawn\" transform=\"translate(195, 285)\" /><use href=\"#white-pawn\" xlink:href=\"#white-pawn\" transform=\"translate(240, 285)\" /><use href=\"#white-pawn\" xlink:href=\"#white-pawn\" transform=\"translate(285, 285)\" /><use href=\"#white-pawn\" xlink:href=\"#white-pawn\" transform=\"translate(330, 285)\" /><use href=\"#black-pawn\" xlink:href=\"#black-pawn\" transform=\"translate(15, 60)\" /><use href=\"#black-pawn\" xlink:href=\"#black-pawn\" transform=\"translate(60, 60)\" /><use href=\"#black-pawn\" xlink:href=\"#black-pawn\" transform=\"translate(105, 60)\" /><use href=\"#black-pawn\" xlink:href=\"#black-pawn\" transform=\"translate(150, 60)\" /><use href=\"#black-pawn\" xlink:href=\"#black-pawn\" transform=\"translate(195, 60)\" /><use href=\"#black-pawn\" xlink:href=\"#black-pawn\" transform=\"translate(240, 60)\" /><use href=\"#black-pawn\" xlink:href=\"#black-pawn\" transform=\"translate(285, 60)\" /><use href=\"#black-pawn\" xlink:href=\"#black-pawn\" transform=\"translate(330, 60)\" /><use href=\"#black-rook\" xlink:href=\"#black-rook\" transform=\"translate(15, 15)\" /><use href=\"#black-knight\" xlink:href=\"#black-knight\" transform=\"translate(60, 15)\" /><use href=\"#black-bishop\" xlink:href=\"#black-bishop\" transform=\"translate(105, 15)\" /><use href=\"#black-queen\" xlink:href=\"#black-queen\" transform=\"translate(150, 15)\" /><use href=\"#black-king\" xlink:href=\"#black-king\" transform=\"translate(195, 15)\" /><use href=\"#black-bishop\" xlink:href=\"#black-bishop\" transform=\"translate(240, 15)\" /><use href=\"#black-knight\" xlink:href=\"#black-knight\" transform=\"translate(285, 15)\" /><use href=\"#black-rook\" xlink:href=\"#black-rook\" transform=\"translate(330, 15)\" /></svg>"
      ],
      "text/plain": [
       "Board('rnbqkbnr/pppppppp/8/8/8/8/PPPPPPPP/RNBQKBNR w KQkq - 0 1')"
      ]
     },
     "execution_count": 12,
     "metadata": {},
     "output_type": "execute_result"
    }
   ],
   "source": [
    "board"
   ]
  },
  {
   "cell_type": "markdown",
   "metadata": {
    "id": "AWOq5354PD8m"
   },
   "source": [
    "On starting board: avg time (sec) over 100 runs (depth 1-3) or 5 runs (depth 4)\n",
    "\n",
    "* depth 1: Minimax: 0.0078, AB Fail Hard: 0.0080, AB Fail Soft: 0.0077\n",
    "* depth 2: Minimax: 0.1551, AB Fail Hard: 0.0358, AB Fail Soft: 0.0281\n",
    "* depth 3: Minimax: 3.4503, AB Fail Hard: 0.3359, AB Fail Soft: 0.2769\n",
    "* depth 4: Minimax: 73.2331, AB Fail Hard: 1.4265, AB Fail Soft: 1.0175"
   ]
  },
  {
   "cell_type": "code",
   "execution_count": 13,
   "metadata": {
    "colab": {
     "base_uri": "https://localhost:8080/"
    },
    "id": "XVZ88HpS-4wI",
    "outputId": "2a8b8b7f-5395-43ac-b023-85ab44e1157c"
   },
   "outputs": [
    {
     "name": "stdout",
     "output_type": "stream",
     "text": [
      "Game not over\n",
      "================================================================\n",
      "Moves:\tWHITE\tBLACK\n",
      "        -------------\n",
      "     1  g1f3\td7d6\n",
      "     2  f3g1\tg8h6\n",
      "     3  d2d4\th6f5\n",
      "     4  b2b4\th7h6\n",
      "     5  e1d2\td8d7\n",
      "     6  d2c3\td7c6\n",
      "     7  c3b2\tc6f3\n",
      "     8  c2c4\tf3f4\n",
      "     9  b1a3\tf5g3\n",
      "    10  a3b1\tf4d4\n",
      "    11  b2a3\tg7g5\n",
      "    12  e2e4\ta7a5\n",
      "    13  f1e2\td4e5\n",
      "    14  c1f4\tc8e6\n",
      "    15  f2g3\tb8d7\n"
     ]
    }
   ],
   "source": [
    "board = play_game_max_moves(RandomPlayer(color = True), # white\n",
    "                            RandomPlayer(color = False), # black\n",
    "                            max_moves = 15)"
   ]
  },
  {
   "cell_type": "code",
   "execution_count": 14,
   "metadata": {
    "colab": {
     "base_uri": "https://localhost:8080/"
    },
    "id": "KMcv06-qSvqB",
    "outputId": "04c7afaa-261b-4e8b-9de6-84104a7ebbe7"
   },
   "outputs": [
    {
     "data": {
      "text/plain": [
       "(('g1f3',), -25)"
      ]
     },
     "execution_count": 14,
     "metadata": {},
     "output_type": "execute_result"
    }
   ],
   "source": [
    "minimax(board, 1, board.turn)"
   ]
  },
  {
   "cell_type": "code",
   "execution_count": 15,
   "metadata": {
    "colab": {
     "base_uri": "https://localhost:8080/"
    },
    "id": "1ybjljJ1S5F9",
    "outputId": "b0be3342-4d2a-467e-df3b-cadc620b537d"
   },
   "outputs": [
    {
     "data": {
      "text/plain": [
       "(('g1f3', 'e5e4'), -45)"
      ]
     },
     "execution_count": 15,
     "metadata": {},
     "output_type": "execute_result"
    }
   ],
   "source": [
    "minimax(board, 2, board.turn)"
   ]
  },
  {
   "cell_type": "code",
   "execution_count": 16,
   "metadata": {
    "colab": {
     "base_uri": "https://localhost:8080/"
    },
    "id": "BU2Q6nnCS-hd",
    "outputId": "67e0dd70-3f01-486a-f67f-73e8e6004e3b"
   },
   "outputs": [
    {
     "data": {
      "text/plain": [
       "(('b1c3', 'e5c3', 'd1b3'), -25)"
      ]
     },
     "execution_count": 16,
     "metadata": {},
     "output_type": "execute_result"
    }
   ],
   "source": [
    "minimax(board, 3, board.turn)"
   ]
  },
  {
   "cell_type": "code",
   "execution_count": 17,
   "metadata": {
    "colab": {
     "base_uri": "https://localhost:8080/"
    },
    "id": "y5EXO9HFTC_p",
    "outputId": "02cceea3-4288-4804-87e2-aac94b0b2687"
   },
   "outputs": [
    {
     "data": {
      "text/plain": [
       "(('g1f3',), -25)"
      ]
     },
     "execution_count": 17,
     "metadata": {},
     "output_type": "execute_result"
    }
   ],
   "source": [
    "alpha_beta_fail_hard(board, 1, board.turn)"
   ]
  },
  {
   "cell_type": "code",
   "execution_count": 18,
   "metadata": {
    "colab": {
     "base_uri": "https://localhost:8080/"
    },
    "id": "LnPl2imDTGlk",
    "outputId": "16837b4a-8324-481f-a3f6-3583f96d924c"
   },
   "outputs": [
    {
     "data": {
      "text/plain": [
       "(('g1f3', 'e5e4'), -45)"
      ]
     },
     "execution_count": 18,
     "metadata": {},
     "output_type": "execute_result"
    }
   ],
   "source": [
    "alpha_beta_fail_hard(board, 2, board.turn)"
   ]
  },
  {
   "cell_type": "code",
   "execution_count": 19,
   "metadata": {
    "colab": {
     "base_uri": "https://localhost:8080/"
    },
    "id": "aCSCumuZTLiz",
    "outputId": "94a828ce-d47c-4e88-fb3c-e1b70f7b8ce2"
   },
   "outputs": [
    {
     "data": {
      "text/plain": [
       "(('b1c3', 'e5c3', 'd1b3'), -25)"
      ]
     },
     "execution_count": 19,
     "metadata": {},
     "output_type": "execute_result"
    }
   ],
   "source": [
    "alpha_beta_fail_hard(board, 3, board.turn)"
   ]
  },
  {
   "cell_type": "code",
   "execution_count": 20,
   "metadata": {
    "colab": {
     "base_uri": "https://localhost:8080/"
    },
    "id": "gNr3JCRqTPbd",
    "outputId": "b7e816ee-a772-4793-c78b-2357a611c064"
   },
   "outputs": [
    {
     "data": {
      "text/plain": [
       "(('b1c3', 'e5c3', 'd1b3', 'g5f4'), -45)"
      ]
     },
     "execution_count": 20,
     "metadata": {},
     "output_type": "execute_result"
    }
   ],
   "source": [
    "alpha_beta_fail_hard(board, 4, board.turn)"
   ]
  },
  {
   "cell_type": "code",
   "execution_count": 21,
   "metadata": {
    "colab": {
     "base_uri": "https://localhost:8080/"
    },
    "id": "SrRyWzMKTVP8",
    "outputId": "a7a7a054-af41-4b0d-e9b6-ebbcc25a8994"
   },
   "outputs": [
    {
     "data": {
      "text/plain": [
       "(('g1f3',), -25)"
      ]
     },
     "execution_count": 21,
     "metadata": {},
     "output_type": "execute_result"
    }
   ],
   "source": [
    "alpha_beta_fail_soft(board, 1, board.turn)"
   ]
  },
  {
   "cell_type": "code",
   "execution_count": 22,
   "metadata": {
    "colab": {
     "base_uri": "https://localhost:8080/"
    },
    "id": "_q2xX8VOTcgY",
    "outputId": "65f94e1e-8131-43c8-e5eb-5c502cf98a5e"
   },
   "outputs": [
    {
     "data": {
      "text/plain": [
       "(('g1f3', 'e5e4'), -45)"
      ]
     },
     "execution_count": 22,
     "metadata": {},
     "output_type": "execute_result"
    }
   ],
   "source": [
    "alpha_beta_fail_soft(board, 2, board.turn)"
   ]
  },
  {
   "cell_type": "code",
   "execution_count": 23,
   "metadata": {
    "colab": {
     "base_uri": "https://localhost:8080/"
    },
    "id": "zWNmumA9Tgvl",
    "outputId": "425a5007-5b1a-47b8-c676-c645fd2979de"
   },
   "outputs": [
    {
     "ename": "KeyboardInterrupt",
     "evalue": "",
     "output_type": "error",
     "traceback": [
      "\u001b[0;31m---------------------------------------------------------------------------\u001b[0m",
      "\u001b[0;31mKeyboardInterrupt\u001b[0m                         Traceback (most recent call last)",
      "Cell \u001b[0;32mIn[23], line 1\u001b[0m\n\u001b[0;32m----> 1\u001b[0m \u001b[43malpha_beta_fail_soft\u001b[49m\u001b[43m(\u001b[49m\u001b[43mboard\u001b[49m\u001b[43m,\u001b[49m\u001b[43m \u001b[49m\u001b[38;5;241;43m3\u001b[39;49m\u001b[43m,\u001b[49m\u001b[43m \u001b[49m\u001b[43mboard\u001b[49m\u001b[38;5;241;43m.\u001b[39;49m\u001b[43mturn\u001b[49m\u001b[43m)\u001b[49m\n",
      "Cell \u001b[0;32mIn[9], line 98\u001b[0m, in \u001b[0;36malpha_beta_fail_soft\u001b[0;34m(board, depth, maximizing_player, alpha, beta, moves_list)\u001b[0m\n\u001b[1;32m     95\u001b[0m board_copy\u001b[38;5;241m.\u001b[39mpush(move)\n\u001b[1;32m     96\u001b[0m new_moves_list \u001b[38;5;241m=\u001b[39m moves_list \u001b[38;5;241m+\u001b[39m (move\u001b[38;5;241m.\u001b[39muci(),)\n\u001b[0;32m---> 98\u001b[0m best_move, move_points \u001b[38;5;241m=\u001b[39m \u001b[43malpha_beta_fail_soft\u001b[49m\u001b[43m(\u001b[49m\u001b[43mboard_copy\u001b[49m\u001b[43m,\u001b[49m\u001b[43m \u001b[49m\u001b[43mdepth\u001b[49m\u001b[43m \u001b[49m\u001b[38;5;241;43m-\u001b[39;49m\u001b[43m \u001b[49m\u001b[38;5;241;43m1\u001b[39;49m\u001b[43m,\u001b[49m\u001b[43m \u001b[49m\u001b[38;5;129;43;01mnot\u001b[39;49;00m\u001b[43m \u001b[49m\u001b[43mmaximizing_player\u001b[49m\u001b[43m,\u001b[49m\u001b[43m \u001b[49m\u001b[43malpha\u001b[49m\u001b[43m,\u001b[49m\u001b[43m \u001b[49m\u001b[43mbeta\u001b[49m\u001b[43m,\u001b[49m\u001b[43m \u001b[49m\u001b[43mnew_moves_list\u001b[49m\u001b[43m)\u001b[49m\n\u001b[1;32m     99\u001b[0m \u001b[38;5;28;01mif\u001b[39;00m move_points \u001b[38;5;241m>\u001b[39m value:\n\u001b[1;32m    100\u001b[0m     final_moves_list \u001b[38;5;241m=\u001b[39m best_move\n",
      "Cell \u001b[0;32mIn[9], line 118\u001b[0m, in \u001b[0;36malpha_beta_fail_soft\u001b[0;34m(board, depth, maximizing_player, alpha, beta, moves_list)\u001b[0m\n\u001b[1;32m    115\u001b[0m board_copy\u001b[38;5;241m.\u001b[39mpush(move)\n\u001b[1;32m    116\u001b[0m new_moves_list \u001b[38;5;241m=\u001b[39m moves_list \u001b[38;5;241m+\u001b[39m (move\u001b[38;5;241m.\u001b[39muci(),)\n\u001b[0;32m--> 118\u001b[0m best_move, move_points \u001b[38;5;241m=\u001b[39m \u001b[43malpha_beta_fail_soft\u001b[49m\u001b[43m(\u001b[49m\u001b[43mboard_copy\u001b[49m\u001b[43m,\u001b[49m\u001b[43m \u001b[49m\u001b[43mdepth\u001b[49m\u001b[43m \u001b[49m\u001b[38;5;241;43m-\u001b[39;49m\u001b[43m \u001b[49m\u001b[38;5;241;43m1\u001b[39;49m\u001b[43m,\u001b[49m\u001b[43m \u001b[49m\u001b[38;5;129;43;01mnot\u001b[39;49;00m\u001b[43m \u001b[49m\u001b[43mmaximizing_player\u001b[49m\u001b[43m,\u001b[49m\u001b[43m \u001b[49m\u001b[43malpha\u001b[49m\u001b[43m,\u001b[49m\u001b[43m \u001b[49m\u001b[43mbeta\u001b[49m\u001b[43m,\u001b[49m\u001b[43m \u001b[49m\u001b[43mnew_moves_list\u001b[49m\u001b[43m)\u001b[49m\n\u001b[1;32m    119\u001b[0m \u001b[38;5;28;01mif\u001b[39;00m move_points \u001b[38;5;241m<\u001b[39m value:\n\u001b[1;32m    120\u001b[0m     final_moves_list \u001b[38;5;241m=\u001b[39m best_move\n",
      "Cell \u001b[0;32mIn[9], line 94\u001b[0m, in \u001b[0;36malpha_beta_fail_soft\u001b[0;34m(board, depth, maximizing_player, alpha, beta, moves_list)\u001b[0m\n\u001b[1;32m     91\u001b[0m final_moves_list \u001b[38;5;241m=\u001b[39m ()\n\u001b[1;32m     93\u001b[0m \u001b[38;5;28;01mfor\u001b[39;00m move \u001b[38;5;129;01min\u001b[39;00m \u001b[38;5;28mlist\u001b[39m(board\u001b[38;5;241m.\u001b[39mlegal_moves):\n\u001b[0;32m---> 94\u001b[0m     board_copy \u001b[38;5;241m=\u001b[39m \u001b[43mboard\u001b[49m\u001b[38;5;241;43m.\u001b[39;49m\u001b[43mcopy\u001b[49m\u001b[43m(\u001b[49m\u001b[43m)\u001b[49m\n\u001b[1;32m     95\u001b[0m     board_copy\u001b[38;5;241m.\u001b[39mpush(move)\n\u001b[1;32m     96\u001b[0m     new_moves_list \u001b[38;5;241m=\u001b[39m moves_list \u001b[38;5;241m+\u001b[39m (move\u001b[38;5;241m.\u001b[39muci(),)\n",
      "File \u001b[0;32m~/opt/anaconda3/envs/ChessEnv/lib/python3.9/site-packages/chess/__init__.py:3729\u001b[0m, in \u001b[0;36mBoard.copy\u001b[0;34m(self, stack)\u001b[0m\n\u001b[1;32m   3727\u001b[0m \u001b[38;5;28;01mif\u001b[39;00m stack:\n\u001b[1;32m   3728\u001b[0m     stack \u001b[38;5;241m=\u001b[39m \u001b[38;5;28mlen\u001b[39m(\u001b[38;5;28mself\u001b[39m\u001b[38;5;241m.\u001b[39mmove_stack) \u001b[38;5;28;01mif\u001b[39;00m stack \u001b[38;5;129;01mis\u001b[39;00m \u001b[38;5;28;01mTrue\u001b[39;00m \u001b[38;5;28;01melse\u001b[39;00m stack\n\u001b[0;32m-> 3729\u001b[0m     board\u001b[38;5;241m.\u001b[39mmove_stack \u001b[38;5;241m=\u001b[39m [copy\u001b[38;5;241m.\u001b[39mcopy(move) \u001b[38;5;28;01mfor\u001b[39;00m move \u001b[38;5;129;01min\u001b[39;00m \u001b[38;5;28mself\u001b[39m\u001b[38;5;241m.\u001b[39mmove_stack[\u001b[38;5;241m-\u001b[39mstack:]]\n\u001b[1;32m   3730\u001b[0m     board\u001b[38;5;241m.\u001b[39m_stack \u001b[38;5;241m=\u001b[39m \u001b[38;5;28mself\u001b[39m\u001b[38;5;241m.\u001b[39m_stack[\u001b[38;5;241m-\u001b[39mstack:]\n\u001b[1;32m   3732\u001b[0m \u001b[38;5;28;01mreturn\u001b[39;00m board\n",
      "File \u001b[0;32m~/opt/anaconda3/envs/ChessEnv/lib/python3.9/site-packages/chess/__init__.py:3729\u001b[0m, in \u001b[0;36m<listcomp>\u001b[0;34m(.0)\u001b[0m\n\u001b[1;32m   3727\u001b[0m \u001b[38;5;28;01mif\u001b[39;00m stack:\n\u001b[1;32m   3728\u001b[0m     stack \u001b[38;5;241m=\u001b[39m \u001b[38;5;28mlen\u001b[39m(\u001b[38;5;28mself\u001b[39m\u001b[38;5;241m.\u001b[39mmove_stack) \u001b[38;5;28;01mif\u001b[39;00m stack \u001b[38;5;129;01mis\u001b[39;00m \u001b[38;5;28;01mTrue\u001b[39;00m \u001b[38;5;28;01melse\u001b[39;00m stack\n\u001b[0;32m-> 3729\u001b[0m     board\u001b[38;5;241m.\u001b[39mmove_stack \u001b[38;5;241m=\u001b[39m [\u001b[43mcopy\u001b[49m\u001b[38;5;241;43m.\u001b[39;49m\u001b[43mcopy\u001b[49m\u001b[43m(\u001b[49m\u001b[43mmove\u001b[49m\u001b[43m)\u001b[49m \u001b[38;5;28;01mfor\u001b[39;00m move \u001b[38;5;129;01min\u001b[39;00m \u001b[38;5;28mself\u001b[39m\u001b[38;5;241m.\u001b[39mmove_stack[\u001b[38;5;241m-\u001b[39mstack:]]\n\u001b[1;32m   3730\u001b[0m     board\u001b[38;5;241m.\u001b[39m_stack \u001b[38;5;241m=\u001b[39m \u001b[38;5;28mself\u001b[39m\u001b[38;5;241m.\u001b[39m_stack[\u001b[38;5;241m-\u001b[39mstack:]\n\u001b[1;32m   3732\u001b[0m \u001b[38;5;28;01mreturn\u001b[39;00m board\n",
      "File \u001b[0;32m~/opt/anaconda3/envs/ChessEnv/lib/python3.9/copy.py:102\u001b[0m, in \u001b[0;36mcopy\u001b[0;34m(x)\u001b[0m\n\u001b[1;32m    100\u001b[0m \u001b[38;5;28;01mif\u001b[39;00m \u001b[38;5;28misinstance\u001b[39m(rv, \u001b[38;5;28mstr\u001b[39m):\n\u001b[1;32m    101\u001b[0m     \u001b[38;5;28;01mreturn\u001b[39;00m x\n\u001b[0;32m--> 102\u001b[0m \u001b[38;5;28;01mreturn\u001b[39;00m \u001b[43m_reconstruct\u001b[49m\u001b[43m(\u001b[49m\u001b[43mx\u001b[49m\u001b[43m,\u001b[49m\u001b[43m \u001b[49m\u001b[38;5;28;43;01mNone\u001b[39;49;00m\u001b[43m,\u001b[49m\u001b[43m \u001b[49m\u001b[38;5;241;43m*\u001b[39;49m\u001b[43mrv\u001b[49m\u001b[43m)\u001b[49m\n",
      "File \u001b[0;32m~/opt/anaconda3/envs/ChessEnv/lib/python3.9/copy.py:271\u001b[0m, in \u001b[0;36m_reconstruct\u001b[0;34m(x, memo, func, args, state, listiter, dictiter, deepcopy)\u001b[0m\n\u001b[1;32m    269\u001b[0m \u001b[38;5;28;01mif\u001b[39;00m deep:\n\u001b[1;32m    270\u001b[0m     state \u001b[38;5;241m=\u001b[39m deepcopy(state, memo)\n\u001b[0;32m--> 271\u001b[0m \u001b[38;5;28;01mif\u001b[39;00m \u001b[38;5;28;43mhasattr\u001b[39;49m(y, \u001b[38;5;124m'\u001b[39m\u001b[38;5;124m__setstate__\u001b[39m\u001b[38;5;124m'\u001b[39m):\n\u001b[1;32m    272\u001b[0m     y\u001b[38;5;241m.\u001b[39m__setstate__(state)\n\u001b[1;32m    273\u001b[0m \u001b[38;5;28;01melse\u001b[39;00m:\n",
      "\u001b[0;31mKeyboardInterrupt\u001b[0m: "
     ]
    }
   ],
   "source": [
    "alpha_beta_fail_soft(board, 3, board.turn)"
   ]
  },
  {
   "cell_type": "code",
   "execution_count": null,
   "metadata": {
    "colab": {
     "base_uri": "https://localhost:8080/"
    },
    "id": "MMsscBEwTgzD",
    "outputId": "7ca485c6-b130-4961-9391-bd2e8b4d9cf3"
   },
   "outputs": [],
   "source": [
    "alpha_beta_fail_soft(board, 4, board.turn)"
   ]
  },
  {
   "cell_type": "code",
   "execution_count": null,
   "metadata": {
    "colab": {
     "base_uri": "https://localhost:8080/"
    },
    "id": "FpxkvdnUFR6P",
    "outputId": "699cef89-2a4f-42e7-bf14-225e24977865"
   },
   "outputs": [],
   "source": [
    "play_game(AIPlayer(True, algo=\"AB_soft\", depth=3),\n",
    "          AIPlayer(False, algo=\"AB_soft\",depth=3))"
   ]
  },
  {
   "cell_type": "code",
   "execution_count": null,
   "metadata": {
    "colab": {
     "base_uri": "https://localhost:8080/"
    },
    "id": "dQJhzNn6U89z",
    "outputId": "8e3f575b-c45b-4f26-c9a7-595952411ebe"
   },
   "outputs": [],
   "source": [
    "play_game(RandomPlayer(True),\n",
    "          AIPlayer(False, algo=\"AB_soft\",depth=3))"
   ]
  },
  {
   "cell_type": "code",
   "execution_count": null,
   "metadata": {
    "colab": {
     "base_uri": "https://localhost:8080/"
    },
    "id": "OUkXCw99EVIc",
    "outputId": "963a427f-21f4-4b1b-efa9-a6fa6fab9435"
   },
   "outputs": [],
   "source": [
    "play_random_game()"
   ]
  },
  {
   "cell_type": "markdown",
   "metadata": {
    "id": "8ZkxBL89CAgE"
   },
   "source": [
    "Random notes:\n",
    "\n",
    "Pseudo legal moves can leave king in check, legal moves don't"
   ]
  },
  {
   "cell_type": "code",
   "execution_count": null,
   "metadata": {},
   "outputs": [],
   "source": [
    "print(\"hi\")"
   ]
  },
  {
   "cell_type": "code",
   "execution_count": null,
   "metadata": {},
   "outputs": [],
   "source": []
  }
 ],
 "metadata": {
  "colab": {
   "provenance": []
  },
  "gpuClass": "standard",
  "kernelspec": {
   "display_name": "Python 3 (ipykernel)",
   "language": "python",
   "name": "python3"
  },
  "language_info": {
   "codemirror_mode": {
    "name": "ipython",
    "version": 3
   },
   "file_extension": ".py",
   "mimetype": "text/x-python",
   "name": "python",
   "nbconvert_exporter": "python",
   "pygments_lexer": "ipython3",
   "version": "3.9.16"
  },
  "vscode": {
   "interpreter": {
    "hash": "b0fa6594d8f4cbf19f97940f81e996739fb7646882a419484c72d19e05852a7e"
   }
  }
 },
 "nbformat": 4,
 "nbformat_minor": 1
}
